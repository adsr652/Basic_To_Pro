{
 "cells": [
  {
   "cell_type": "code",
   "execution_count": null,
   "id": "3550e712",
   "metadata": {},
   "outputs": [],
   "source": [
    "#Print the Sentence\n",
    "print(\"Welcome to Python Programming Language!\")"
   ]
  },
  {
   "cell_type": "markdown",
   "id": "bdee5907",
   "metadata": {},
   "source": [
    "Add Image: <img src='little_Plant.jfif'>"
   ]
  },
  {
   "cell_type": "code",
   "execution_count": null,
   "id": "fe270f8a",
   "metadata": {},
   "outputs": [],
   "source": [
    "#Print the Poem & the poem name is The Little Plant\n",
    "\"\"\"This poem wrote by Kate Louise Brown. The poet shows the story \n",
    "of the little plant. The little plant faces many types of hurdles of its life.\"\"\"\n",
    "print(\"The Little Plant\")\n",
    "print(\"\\tIn the heart of a seed,\\n\\tBuired deep so deep,\\n\\t\\tA tiny Plant\\n\\t\\tLay fast asleap.\\n\\t'Wake,' said the sunshine,\\n\\t'And creep to the light.'\\n\\t'Wake,' said the voice\\n\\t of the raindrops bright.\\n\\tThe little plant heard\\n\\tAnd it rose to see,\\n\\tWhat the the wonderful,\\n\\tOutside world might be\")"
   ]
  },
  {
   "cell_type": "code",
   "execution_count": null,
   "id": "92bbe8ae",
   "metadata": {},
   "outputs": [],
   "source": [
    "# Display All comments\n",
    "a= 12\n",
    "b= 13.34\n",
    "c= \"Python\"\n",
    "d= 39+2j\n",
    "print(a)\n",
    "print(b)\n",
    "print(c)\n",
    "print(d)\n",
    "print(type(a))\n",
    "print(type(b))\n",
    "print(type(c))\n",
    "print(type(d))\n",
    "print(id(a))\n",
    "print(id(b))\n",
    "print(id(c))\n",
    "print(id(d))"
   ]
  },
  {
   "cell_type": "markdown",
   "id": "bdef65ed",
   "metadata": {},
   "source": [
    "## Arithmetic operation\n",
    "1. additon (+)\n",
    "2. substraction(-)\n",
    "3. multipliction(*)\n",
    "4. Division(/) : result float\n",
    "5. floor division(//) : result integer\n",
    "6. Modulus(%) : result reminder \n",
    "7. Exponential(**) "
   ]
  },
  {
   "cell_type": "code",
   "execution_count": null,
   "id": "11249d25",
   "metadata": {},
   "outputs": [],
   "source": [
    "x = int(input(\"Enter First Value: \"))\n",
    "y = int(input(\"Enter Second Value: \"))\n",
    "print(\"Sum of Two Numbers: \",x+y)\n",
    "print(\"Difference of Two Numbers: \",x-y)\n",
    "print(\"Product of Two Numbers: \",x*y)\n",
    "print(\"Division of Two Numbers: \",x/y)\n",
    "print(\"Floor of Two Numbers: \",x//y)\n",
    "print(\"Modulus of Two Numbers: \",x%y)\n",
    "print(\"Average of Two Numbers: \",(x+y)/2)"
   ]
  },
  {
   "cell_type": "markdown",
   "id": "c2c3328f",
   "metadata": {},
   "source": [
    "## Perimeter Formulas for different geometrical figures"
   ]
  },
  {
   "cell_type": "code",
   "execution_count": null,
   "id": "26212fdc",
   "metadata": {},
   "outputs": [],
   "source": [
    "#To find the Perimeter of Parallelogram  \n",
    "base= int(input(\"Enter the base value: \"))\n",
    "height= int(input(\"Enter the height value: \"))\n",
    "Peri=2*(base + height)\n",
    "print(\"Perimeter of Parallelogram: \",Peri)"
   ]
  },
  {
   "cell_type": "code",
   "execution_count": null,
   "id": "e10515ec",
   "metadata": {},
   "outputs": [],
   "source": [
    "# To find the Perimeter of Rectangle\n",
    "length= int(input(\"Enter the length of rectangle: \"))\n",
    "width= int(input(\"Enter the width of rectangle: \"))\n",
    "Peri=2*(length + width)\n",
    "print(\"Perimeter of Rectangle: \",Peri)"
   ]
  },
  {
   "cell_type": "code",
   "execution_count": null,
   "id": "bae4ddab",
   "metadata": {},
   "outputs": [],
   "source": [
    "#To find the Perimeter of Triangle\n",
    "a= int(input(\"Enter the first side: \"))\n",
    "b= int(input(\"Enter the second side: \"))\n",
    "c= int(input(\"Enter the third side: \"))\n",
    "Peri=a+b+c\n",
    "print(\"Perimeter of Square: \",Peri)"
   ]
  },
  {
   "cell_type": "code",
   "execution_count": null,
   "id": "e12ebe38",
   "metadata": {},
   "outputs": [],
   "source": [
    "#To find the Perimeter of Trapizoid\n",
    "a= int(input(\"Enter the first side: \"))\n",
    "b= int(input(\"Enter the second side: \"))\n",
    "c= int(input(\"Enter the third side: \"))\n",
    "d= int(input(\"Enter the fourth side: \"))\n",
    "Peri=a+b+c+d\n",
    "print(\"Perimeter of Trapizoid: \",Peri)"
   ]
  },
  {
   "cell_type": "code",
   "execution_count": null,
   "id": "2b2be970",
   "metadata": {},
   "outputs": [],
   "source": [
    "#To find the Perimeter of Kite\n",
    "a= int(input(\"Enter the first equal side: \"))\n",
    "b= int(input(\"Enter the second equal side: \"))\n",
    "Peri=2*a+2*b\n",
    "print(\"Perimeter of Kite: \",Peri)"
   ]
  },
  {
   "cell_type": "code",
   "execution_count": null,
   "id": "a83276fc",
   "metadata": {},
   "outputs": [],
   "source": [
    "#To find the Perimeter of Rhombus\n",
    "a= int(input(\"Enter the side: \"))\n",
    "Peri=4*a\n",
    "print(\"Perimeter of Rhombus: \",Peri)"
   ]
  },
  {
   "cell_type": "code",
   "execution_count": null,
   "id": "a48cde7b",
   "metadata": {},
   "outputs": [],
   "source": [
    "#To find the Perimeter of Hexagon\n",
    "a= int(input(\"Enter the side: \"))\n",
    "Peri=6*a\n",
    "print(\"Perimeter of Hexagon: \",Peri)"
   ]
  },
  {
   "cell_type": "code",
   "execution_count": null,
   "id": "aff13ca3",
   "metadata": {},
   "outputs": [],
   "source": [
    "# Perimeter of an Equilateral Triangle\n",
    "l=int(input(\"Enter length of a side: \"))\n",
    "Area=3*l\n",
    "print(Area)"
   ]
  },
  {
   "cell_type": "markdown",
   "id": "43bd11a3",
   "metadata": {},
   "source": [
    "## Area Formulas for different geometrical figures"
   ]
  },
  {
   "cell_type": "code",
   "execution_count": null,
   "id": "d5686045",
   "metadata": {},
   "outputs": [],
   "source": [
    "# To find the Area of Rectangle \n",
    "l= int(input(\"Enter the length: \"))\n",
    "w= int(input(\"Enter the width: \"))\n",
    "Area= l*w\n",
    "print(\"Area of Rectangle: \",Area)"
   ]
  },
  {
   "cell_type": "code",
   "execution_count": null,
   "id": "86740a9a",
   "metadata": {},
   "outputs": [],
   "source": [
    "# To find the Area of Square \n",
    "a= int(input(\"Enter the sides: \"))\n",
    "Area= a**2\n",
    "print(\"Area of Square: \",Area)"
   ]
  },
  {
   "cell_type": "code",
   "execution_count": null,
   "id": "4f66e6ab",
   "metadata": {},
   "outputs": [],
   "source": [
    "# To find the Area of Triangle\n",
    "base= int(input(\"Enter the base: \"))\n",
    "height= int(input(\"Enter the height\"))\n",
    "Area= 1/2*base*height\n",
    "print(\"Area of Triangle: \",Area)"
   ]
  },
  {
   "cell_type": "code",
   "execution_count": null,
   "id": "84755bc8",
   "metadata": {},
   "outputs": [],
   "source": [
    "#Area of Circle\n",
    "r= float(input(\"Enter the radius\"))\n",
    "Area= 3.14*r*r\n",
    "print(\"Area of Circle: \",Area)"
   ]
  },
  {
   "cell_type": "code",
   "execution_count": null,
   "id": "f8db2f77",
   "metadata": {},
   "outputs": [],
   "source": [
    "#Area of a Trapezoid\n",
    "a=float(input(\"Enter first base: \"))\n",
    "b=float(input(\"Enter second base: \"))\n",
    "h=float(input(\"Enter vertical height: \"))\n",
    "Area= 1/2*(a+b)*h\n",
    "print(\"Area of Trapezoid: \",Area)"
   ]
  },
  {
   "cell_type": "code",
   "execution_count": null,
   "id": "84364055",
   "metadata": {},
   "outputs": [],
   "source": [
    "#Area of Ellipse\n",
    "a=float(input(\"Enter major axis: \"))\n",
    "b=float(input(\"Enter minor axis: \"))\n",
    "Area=3.14*a*b\n",
    "print(\"Area of Eclipse\",Area)"
   ]
  },
  {
   "cell_type": "code",
   "execution_count": null,
   "id": "9575514a",
   "metadata": {},
   "outputs": [],
   "source": [
    "#Area iof Equilateral\n",
    "a=float(input(\"Enter length of a side: \"))\n",
    "Area=(1.73*a*a)/4\n",
    "print(\"Area of Equilateral Triangle\",Area)"
   ]
  },
  {
   "cell_type": "markdown",
   "id": "8e6265fb",
   "metadata": {},
   "source": [
    "# SquareRoot"
   ]
  },
  {
   "cell_type": "code",
   "execution_count": null,
   "id": "9bfdb43a",
   "metadata": {},
   "outputs": [],
   "source": [
    "number = int(input(\"enter a number: \"))\n",
    "sqrt = number ** 0.5\n",
    "print(\"square root:\", sqrt)"
   ]
  },
  {
   "cell_type": "markdown",
   "id": "e01d7cff",
   "metadata": {},
   "source": [
    "# Simple Interest"
   ]
  },
  {
   "cell_type": "code",
   "execution_count": 5,
   "id": "35e4f224",
   "metadata": {},
   "outputs": [
    {
     "name": "stdout",
     "output_type": "stream",
     "text": [
      "Enter The Principle: 8535\n",
      "Enter The Rate: 5\n",
      "Enter The Time: 6\n",
      "2560.5\n"
     ]
    }
   ],
   "source": [
    "p=int(input(\"Enter The Principle: \"))\n",
    "r=int(input(\"Enter The Rate: \"))\n",
    "t=int(input(\"Enter The Time: \"))\n",
    "SI=(p*r*t)/100\n",
    "print(SI)"
   ]
  },
  {
   "cell_type": "markdown",
   "id": "a6c970ea",
   "metadata": {},
   "source": [
    "## String Slicing"
   ]
  },
  {
   "cell_type": "code",
   "execution_count": null,
   "id": "5161b454",
   "metadata": {},
   "outputs": [],
   "source": [
    "a=\"Welcome to learn Python Language\"\n",
    "b=\"I hope you will feel better in your future. \"\n",
    "print(a)\n",
    "print(b)"
   ]
  },
  {
   "cell_type": "code",
   "execution_count": null,
   "id": "b6cc56c8",
   "metadata": {},
   "outputs": [],
   "source": [
    "print(a[:-3])"
   ]
  },
  {
   "cell_type": "code",
   "execution_count": null,
   "id": "89cec5be",
   "metadata": {},
   "outputs": [],
   "source": [
    "print(a[:-8])"
   ]
  },
  {
   "cell_type": "code",
   "execution_count": null,
   "id": "7a6f91e3",
   "metadata": {},
   "outputs": [],
   "source": [
    "print(a[2:-3])"
   ]
  },
  {
   "cell_type": "code",
   "execution_count": null,
   "id": "9713a617",
   "metadata": {},
   "outputs": [],
   "source": [
    "print(a[0:-3])"
   ]
  },
  {
   "cell_type": "code",
   "execution_count": null,
   "id": "f59f346b",
   "metadata": {},
   "outputs": [],
   "source": [
    "print(b[:2])"
   ]
  },
  {
   "cell_type": "code",
   "execution_count": null,
   "id": "0df333b5",
   "metadata": {},
   "outputs": [],
   "source": [
    "print(b[:-4])"
   ]
  },
  {
   "cell_type": "code",
   "execution_count": null,
   "id": "706a9f99",
   "metadata": {},
   "outputs": [],
   "source": [
    "print(b[0:8])"
   ]
  },
  {
   "cell_type": "code",
   "execution_count": null,
   "id": "1f54cbb9",
   "metadata": {},
   "outputs": [],
   "source": [
    "print(type(a))\n",
    "print(type(b))"
   ]
  },
  {
   "cell_type": "code",
   "execution_count": null,
   "id": "555e6b3a",
   "metadata": {},
   "outputs": [],
   "source": [
    "print(id(a))"
   ]
  },
  {
   "cell_type": "code",
   "execution_count": null,
   "id": "1135a95d",
   "metadata": {},
   "outputs": [],
   "source": [
    "print(id(b))"
   ]
  },
  {
   "cell_type": "code",
   "execution_count": null,
   "id": "ca4473c9",
   "metadata": {},
   "outputs": [],
   "source": [
    "print(a[::8])"
   ]
  },
  {
   "cell_type": "code",
   "execution_count": null,
   "id": "ac61f971",
   "metadata": {},
   "outputs": [],
   "source": [
    "print(b[::5])"
   ]
  },
  {
   "cell_type": "code",
   "execution_count": null,
   "id": "0bbd8cbb",
   "metadata": {},
   "outputs": [],
   "source": [
    "d=input(\"Enter any String\")\n",
    "print(d[0:-1])\n",
    "print(d[2:-3])\n",
    "print(d[-4])\n",
    "print(d[4])"
   ]
  },
  {
   "cell_type": "code",
   "execution_count": null,
   "id": "41642770",
   "metadata": {},
   "outputs": [],
   "source": [
    "print(type(d))\n",
    "print(id(d))"
   ]
  },
  {
   "cell_type": "code",
   "execution_count": null,
   "id": "75112d7c",
   "metadata": {},
   "outputs": [],
   "source": []
  }
 ],
 "metadata": {
  "kernelspec": {
   "display_name": "Python 3 (ipykernel)",
   "language": "python",
   "name": "python3"
  },
  "language_info": {
   "codemirror_mode": {
    "name": "ipython",
    "version": 3
   },
   "file_extension": ".py",
   "mimetype": "text/x-python",
   "name": "python",
   "nbconvert_exporter": "python",
   "pygments_lexer": "ipython3",
   "version": "3.9.7"
  }
 },
 "nbformat": 4,
 "nbformat_minor": 5
}
